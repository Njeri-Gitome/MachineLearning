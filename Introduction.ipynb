{
 "cells": [
  {
   "cell_type": "markdown",
   "metadata": {},
   "source": [
    "### Introduction\n",
    "Machine Learning, often abbreviated as ML, is a branch of Artificial Intelligence (AI) that focuses on the use of data and algorithms to imitate the way that humans learn.<br>\n",
    "\n",
    "#### Types of ML\n",
    "- Supervised ML<br>\n",
    "- Unsupervised ML<br>\n",
    "- Reiforcement Learning. <br>\n",
    "\n",
    "![Alt text](image.png)\n"
   ]
  },
  {
   "cell_type": "markdown",
   "metadata": {},
   "source": [
    "In **Supervised ML** the machined is trained on a set of labeled data, which means that the input is paired with the desired output. The machine then learns to predict the output for new input data.<br>\n",
    "Supervised learning is often used for tasks such as classification, regression and object detection.<br><br>\n",
    "In **Unsupervised ML** the macine is trained on a set of unlabeled data, which means that the input is not paired with the desired output. The machine learns to find patterns and relationships in the data.<br>\n",
    "Unsupervised learning is often used for tasks such as clustering, dimensionality reduction and anomaly detection."
   ]
  }
 ],
 "metadata": {
  "kernelspec": {
   "display_name": "Python 3",
   "language": "python",
   "name": "python3"
  },
  "language_info": {
   "codemirror_mode": {
    "name": "ipython",
    "version": 3
   },
   "file_extension": ".py",
   "mimetype": "text/x-python",
   "name": "python",
   "nbconvert_exporter": "python",
   "pygments_lexer": "ipython3",
   "version": "3.11.1"
  }
 },
 "nbformat": 4,
 "nbformat_minor": 2
}
