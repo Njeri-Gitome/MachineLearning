{
 "cells": [
  {
   "cell_type": "markdown",
   "metadata": {},
   "source": [
    "### Introduction\n",
    "Machine Learning, often abbreviated as ML, is a branch of Artificial Intelligence (AI) that focuses on the use of data and algorithms to imitate the way that humans learn.<br>\n",
    "\n",
    "#### Types of ML\n",
    "- Supervised ML<br>\n",
    "- Unsupervised ML<br>\n",
    "- Reiforcement Learning. <br>\n",
    "\n",
    "![Alt text](image.png)\n"
   ]
  }
 ],
 "metadata": {
  "kernelspec": {
   "display_name": "Python 3",
   "language": "python",
   "name": "python3"
  },
  "language_info": {
   "codemirror_mode": {
    "name": "ipython",
    "version": 3
   },
   "file_extension": ".py",
   "mimetype": "text/x-python",
   "name": "python",
   "nbconvert_exporter": "python",
   "pygments_lexer": "ipython3",
   "version": "3.11.1"
  }
 },
 "nbformat": 4,
 "nbformat_minor": 2
}
