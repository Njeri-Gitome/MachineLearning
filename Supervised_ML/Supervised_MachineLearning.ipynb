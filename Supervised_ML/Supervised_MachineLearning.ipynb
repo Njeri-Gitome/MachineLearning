{
 "cells": [
  {
   "cell_type": "markdown",
   "metadata": {},
   "source": [
    "## What is Supervised Machine Learning?\n",
    "Supervised ML is a type of Machine Learning that learns the patterns and relationshis between input and output. The inputs are known as **features** of **X variables** and output is generally referred to as the **target** or **y variable**. The type of data which contains both the features and the target is known as labeled data. The labeled data mean some input data os already tagged with the correct output<br>\n",
    "Supervised learning uses algorithms that learn the relationship of **features** and **targets** from the dataset. This process is known as **Training** or **Fitting**.<br>\n",
    "*There are two types of supervised learning algorithms:*<br>\n",
    "- Regression<br>\n",
    "- Classification<br>\n",
    "\n",
    "### Regression\n",
    "Regression algorithms are used if there is a relationship between the input variable and the output variable. It is used for the prediction of continuous variables.<br>\n",
    "Popular Regression Algorithms include:<br>\n",
    "- Linear Regression<br>\n",
    "- Regression Trees<br>\n",
    "- Non-Liner Regression<br>\n",
    "- Bayesian Linear Regression<br>\n",
    "- Polynomial Regression<br>\n",
    "\n",
    "\n",
    "### Classification\n",
    "Classification algorithms are used when the output variable is categorical, which means there are two classes such as Yes/No, Male/Female, True/False etc.<br>\n",
    "Popular Classification algorithms include:\n",
    "- Random Forest<br>\n",
    "- Decision Trees<br>\n",
    "- Logistic Regression<br>\n",
    "- Support Vector Machines<br>\n",
    "- Naive Baiye<br>\n",
    "\n",
    "### A use case of supervised machine learning\n",
    "Industry domain: Banking<br>\n",
    "\n",
    "Data scientists and engineers at Bank of America have created Predictive Intelligence Analytics Machine (PRIAM), an AI prediction system that uses a network of supervised machine learning algorithms. PRIAM allows to understand the relationship trends between equity capital market (ECM) deals and investors as well as to maximize the demand for ECM transactions by predicting the best investors for a deal based on the equity offering details, historical deal participation, trading and client touch point information, and market data.<br>\n",
    "\n",
    "### Advantages of Supervised ML\n",
    "- Models can predict output based on prior experiences.<br>\n",
    "- helps to optimize performance criteria with the help of experience.<br>\n",
    "\n",
    "\n",
    "### Disadvantages of Supervised ML\n",
    "- Not suitable for handling complex data.<br>\n",
    "- It requires alot of computational time.<br>\n",
    "- Cannot predict the correct output if the test data is different from the training set.<br>\n",
    "- In supervised ML, one needs enough knowledge about the classes of the object.<br>\n",
    "\n",
    "### Evaluating Supervised Learning Models\n",
    "Evaluating supervised learning mmodels is an important step in ensuring that the model is accurate and generalizable.<br>\n",
    "\n",
    "**Evaluation Metrics include:**<br>\n",
    "#### For regresssion\n",
    "- **Mean Squared Error (MSE)** - evaluates the mean squared difference between the observed and predicted values. Lower MSE indicate better model performance.<br>\n",
    "![Alt text](image.png)\n",
    "- **Root Mean Squared Error (RMSE)** - this is the square root of MSE, representing the standard deviation of the prediction errors.<br>\n",
    "![Alt text](image-1.png)\n",
    "- **Mean Absolute Error (MAE)** - measures the average absolute difference between the predicted values and actual values. It is less sensitve to outliers compared to MSE or RMSE<br>\n",
    "![Alt text](image-2.png)\n",
    "- **R-squared (Coefficient of Determination)** - measres the proportion of the variance in the target variable that is explained by the model. Higher R-squared values indicate better model fit.<br>\n",
    "![Alt text](image-3.png)\n",
    "calculation:<br>\n",
    "![Alt text](image-4.png)\n",
    "#### For classification"
   ]
  }
 ],
 "metadata": {
  "kernelspec": {
   "display_name": "Python 3",
   "language": "python",
   "name": "python3"
  },
  "language_info": {
   "codemirror_mode": {
    "name": "ipython",
    "version": 3
   },
   "file_extension": ".py",
   "mimetype": "text/x-python",
   "name": "python",
   "nbconvert_exporter": "python",
   "pygments_lexer": "ipython3",
   "version": "3.11.1"
  }
 },
 "nbformat": 4,
 "nbformat_minor": 2
}
